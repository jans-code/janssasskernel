{
 "cells": [
  {
   "cell_type": "markdown",
   "id": "d5026517-d2aa-430c-8f3a-d03f488d5f54",
   "metadata": {},
   "source": [
    "# Generate CSS from Sass/SCSS inside a jupyter notebook!\n",
    "\n",
    "### The kernel defaults to indented sass without semicolons."
   ]
  },
  {
   "cell_type": "code",
   "execution_count": 1,
   "id": "4ecf0238-3f8f-4050-a859-438aa421bd6e",
   "metadata": {
    "tags": []
   },
   "outputs": [
    {
     "name": "stdout",
     "output_type": "stream",
     "text": [
      "body {\n",
      "  font: 100% Helvetica, sans-serif;\n",
      "  color: #333;\n",
      "}\n"
     ]
    }
   ],
   "source": [
    "$font-stack: Helvetica, sans-serif\n",
    "$primary-color: #333\n",
    "\n",
    "body\n",
    "  font: 100% $font-stack\n",
    "  color: $primary-color"
   ]
  },
  {
   "cell_type": "markdown",
   "id": "ff0b64d2-98b0-4109-baaf-9736d1869864",
   "metadata": {},
   "source": [
    "### Use ```%%scss``` for SCSS syntax with semicolons."
   ]
  },
  {
   "cell_type": "code",
   "execution_count": 2,
   "id": "a8813ad2-8794-4b73-a62e-fabc5234f4ef",
   "metadata": {
    "tags": []
   },
   "outputs": [
    {
     "name": "stdout",
     "output_type": "stream",
     "text": [
      "body {\n",
      "  font: 100% Helvetica, sans-serif;\n",
      "  color: #333;\n",
      "}\n"
     ]
    }
   ],
   "source": [
    "%%scss\n",
    "\n",
    "$font-stack: Helvetica, sans-serif;\n",
    "$primary-color: #333;\n",
    "\n",
    "body {\n",
    "  font: 100% $font-stack;\n",
    "  color: $primary-color;\n",
    "}"
   ]
  },
  {
   "cell_type": "markdown",
   "id": "1716410f-8fa7-428f-aa16-79e770a67e78",
   "metadata": {},
   "source": [
    "### Though not needed you can also use ```%%sass``` magic."
   ]
  },
  {
   "cell_type": "code",
   "execution_count": 3,
   "id": "3e21ce97-a535-441a-9e45-0fd90c8314d1",
   "metadata": {
    "tags": []
   },
   "outputs": [
    {
     "name": "stdout",
     "output_type": "stream",
     "text": [
      "nav ul {\n",
      "  margin: 0;\n",
      "  padding: 0;\n",
      "  list-style: none;\n",
      "}\n",
      "nav li {\n",
      "  display: inline-block;\n",
      "}\n",
      "nav a {\n",
      "  display: block;\n",
      "  padding: 6px 12px;\n",
      "  text-decoration: none;\n",
      "}\n"
     ]
    }
   ],
   "source": [
    "%%sass\n",
    "    \n",
    "nav\n",
    "  ul\n",
    "    margin: 0\n",
    "    padding: 0\n",
    "    list-style: none\n",
    "\n",
    "  li\n",
    "    display: inline-block\n",
    "\n",
    "  a\n",
    "    display: block\n",
    "    padding: 6px 12px\n",
    "    text-decoration: none"
   ]
  },
  {
   "cell_type": "code",
   "execution_count": 4,
   "id": "0f146b85-8f0f-4608-a1c1-2f7ca432bfd2",
   "metadata": {
    "tags": []
   },
   "outputs": [
    {
     "name": "stdout",
     "output_type": "stream",
     "text": [
      "nav ul {\n",
      "  margin: 0;\n",
      "  padding: 0;\n",
      "  list-style: none;\n",
      "}\n",
      "nav li {\n",
      "  display: inline-block;\n",
      "}\n",
      "nav a {\n",
      "  display: block;\n",
      "  padding: 6px 12px;\n",
      "  text-decoration: none;\n",
      "}\n"
     ]
    }
   ],
   "source": [
    "%%scss\n",
    "\n",
    "nav {\n",
    "  ul {\n",
    "    margin: 0;\n",
    "    padding: 0;\n",
    "    list-style: none;\n",
    "  }\n",
    "\n",
    "  li { display: inline-block; }\n",
    "\n",
    "  a {\n",
    "    display: block;\n",
    "    padding: 6px 12px;\n",
    "    text-decoration: none;\n",
    "  }\n",
    "}"
   ]
  },
  {
   "cell_type": "code",
   "execution_count": 3,
   "id": "a9123bca-c9a5-4e09-9a60-ce36bea85411",
   "metadata": {
    "tags": []
   },
   "outputs": [
    {
     "name": "stdout",
     "output_type": "stream",
     "text": [
      ".info {\n",
      "  background: DarkGray;\n",
      "  box-shadow: 0 0 1px rgba(169, 169, 169, 0.25);\n",
      "  color: #fff;\n",
      "}\n",
      "\n",
      ".alert {\n",
      "  background: DarkRed;\n",
      "  box-shadow: 0 0 1px rgba(139, 0, 0, 0.25);\n",
      "  color: #fff;\n",
      "}\n",
      "\n",
      ".success {\n",
      "  background: DarkGreen;\n",
      "  box-shadow: 0 0 1px rgba(0, 100, 0, 0.25);\n",
      "  color: #fff;\n",
      "}\n"
     ]
    }
   ],
   "source": [
    "%%scss\n",
    "\n",
    "@mixin theme($theme: DarkGray) {\n",
    "  background: $theme;\n",
    "  box-shadow: 0 0 1px rgba($theme, .25);\n",
    "  color: #fff;\n",
    "}\n",
    "\n",
    ".info {\n",
    "  @include theme;\n",
    "}\n",
    ".alert {\n",
    "  @include theme($theme: DarkRed);\n",
    "}\n",
    ".success {\n",
    "  @include theme($theme: DarkGreen);\n",
    "}"
   ]
  },
  {
   "cell_type": "code",
   "execution_count": 5,
   "id": "23a436d2-56b4-4b32-9f6e-af56222c86ff",
   "metadata": {
    "tags": []
   },
   "outputs": [
    {
     "name": "stdout",
     "output_type": "stream",
     "text": [
      "/* This CSS will print because %message-shared is extended. */\n",
      ".warning, .error, .success, .message {\n",
      "  border: 1px solid #ccc;\n",
      "  padding: 10px;\n",
      "  color: #333;\n",
      "}\n",
      "\n",
      ".success {\n",
      "  border-color: green;\n",
      "}\n",
      "\n",
      ".error {\n",
      "  border-color: red;\n",
      "}\n",
      "\n",
      ".warning {\n",
      "  border-color: yellow;\n",
      "}\n"
     ]
    }
   ],
   "source": [
    "%%scss\n",
    "\n",
    "/* This CSS will print because %message-shared is extended. */\n",
    "%message-shared {\n",
    "  border: 1px solid #ccc;\n",
    "  padding: 10px;\n",
    "  color: #333;\n",
    "}\n",
    "\n",
    "// This CSS won't print because %equal-heights is never extended.\n",
    "%equal-heights {\n",
    "  display: flex;\n",
    "  flex-wrap: wrap;\n",
    "}\n",
    "\n",
    ".message {\n",
    "  @extend %message-shared;\n",
    "}\n",
    "\n",
    ".success {\n",
    "  @extend %message-shared;\n",
    "  border-color: green;\n",
    "}\n",
    "\n",
    ".error {\n",
    "  @extend %message-shared;\n",
    "  border-color: red;\n",
    "}\n",
    "\n",
    ".warning {\n",
    "  @extend %message-shared;\n",
    "  border-color: yellow;\n",
    "}"
   ]
  },
  {
   "cell_type": "code",
   "execution_count": 6,
   "id": "8e01c5ac-7157-478d-a7be-3c298ffb95a1",
   "metadata": {
    "tags": []
   },
   "outputs": [
    {
     "name": "stdout",
     "output_type": "stream",
     "text": [
      ".container {\n",
      "  display: flex;\n",
      "}\n",
      "\n",
      "article[role=main] {\n",
      "  width: 62.5%;\n",
      "}\n",
      "\n",
      "aside[role=complementary] {\n",
      "  width: 31.25%;\n",
      "  margin-left: auto;\n",
      "}\n"
     ]
    }
   ],
   "source": [
    "%%scss\n",
    "\n",
    "@use \"sass:math\";\n",
    "\n",
    ".container {\n",
    "  display: flex;\n",
    "}\n",
    "\n",
    "article[role=\"main\"] {\n",
    "  width: math.div(600px, 960px) * 100%;\n",
    "}\n",
    "\n",
    "aside[role=\"complementary\"] {\n",
    "  width: math.div(300px, 960px) * 100%;\n",
    "  margin-left: auto;\n",
    "}"
   ]
  }
 ],
 "metadata": {
  "kernelspec": {
   "display_name": "Sass",
   "language": "",
   "name": "janssasskernel"
  },
  "language_info": {
   "file_extension": ".scss",
   "mimetype": "text/css",
   "name": "Sass"
  }
 },
 "nbformat": 4,
 "nbformat_minor": 5
}
